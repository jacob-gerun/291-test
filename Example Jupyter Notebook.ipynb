{
 "cells": [
  {
   "cell_type": "markdown",
   "metadata": {},
   "source": [
    "# Example Jupyter Notebook\n",
    "<a id = \"top\"></a>\n",
    "Jupyter Notebooks consists of cells, so one general idea would be to have markdown cells to explain\n",
    "a concept, followed by a coding example to help visulize the example\n",
    "\n",
    "---\n",
    "\n",
    "## Useful Links\n",
    "- __[jupyter4edu](https://jupyter4edu.github.io/jupyter-edu-book/)__\n",
    "- __[Markdown quick guide](https://www.markdownguide.org/basic-syntax/)__\n",
    "- __[jupyter notebook introduction](https://realpython.com/jupyter-notebook-introduction/#creating-a-notebook)__\n",
    "- __[nbgrader github](https://github.com/jupyter/nbgrader)__\n",
    "\n",
    "---\n",
    "\n",
    "## Grading\n",
    "The nbgrader extension above links to an extension that defines a file structure for a course in jupyter notebooks\n",
    "and allows for assignments to be autograded.\n",
    "However, it would probably not be worth the time to get nbgrader configured if we would only use the grading aspects for one \n",
    "microassignment.\n",
    "\n",
    "## Code\n",
    "We can also have code snippits in markdown that can't be ran, but still show syntax correctly\n",
    "\n",
    "```python\n",
    "x = 'example code snippit'\n",
    "print(x)\n",
    "```\n",
    "Below I have a simple query\n"
   ]
  },
  {
   "cell_type": "code",
   "execution_count": null,
   "metadata": {
    "pycharm": {
     "name": "#%%\n"
    }
   },
   "outputs": [],
   "source": [
    "import sqlite3\n",
    "conn = sqlite3.connect('sql2.db')\n",
    "c = conn.cursor()\n",
    "\n",
    "c.execute('''\n",
    "    SELECT *\n",
    "    FROM tracks\n",
    "    LIMIT 5\n",
    "''')\n",
    "for row in c.fetchall():\n",
    "    print(row)"
   ]
  },
  {
   "cell_type": "markdown",
   "metadata": {},
   "source": [
    "---\n",
    "\n",
    "We can use pandas to show the data in a table\n",
    "\n",
    "---"
   ]
  },
  {
   "cell_type": "code",
   "execution_count": null,
   "metadata": {
    "pycharm": {
     "name": "#%%\n"
    }
   },
   "outputs": [],
   "source": [
    "import sqlite3,pandas as pd\n",
    "conn = sqlite3.connect('sql2.db')\n",
    "c = conn.cursor()\n",
    "\n",
    "df = pd.read_sql_query(\"SELECT * FROM TRACKS LIMIT 5\", conn)\n",
    "df\n"
   ]
  },
  {
   "cell_type": "code",
   "execution_count": 1,
   "metadata": {
    "pycharm": {
     "name": "#%%\n"
    }
   },
   "outputs": [
    {
     "data": {
      "image/png": "[encoded data removed]",
      "text/plain": [
       "<Figure size 432x288 with 1 Axes>"
      ]
     },
     "metadata": {
      "needs_background": "light"
     },
     "output_type": "display_data"
    }
   ],
   "source": [
    "%run A4P3Copy.py"
   ]
  },
  {
   "cell_type": "markdown",
   "metadata": {
    "pycharm": {
     "name": "#%% md\n"
    }
   },
   "source": [
    "Here we have a visualization of the speedup after using an index in assignment 3, where cyan is the non-indexed time and purple is the indexed time"
   ]
  },
  {
   "cell_type": "markdown",
   "metadata": {
    "pycharm": {
     "name": "#%%\n"
    }
   },
   "source": []
  },
  {
   "cell_type": "markdown",
   "metadata": {
    "pycharm": {
     "name": "#%% md\n"
    }
   },
   "source": [
    "[Jump to top](#top)\n",
    "\n"
   ]
  }
 ],
 "metadata": {
  "kernelspec": {
   "display_name": "Python 3",
   "language": "python",
   "name": "python3"
  },
  "language_info": {
   "codemirror_mode": {
    "name": "ipython",
    "version": 3
   },
   "file_extension": ".py",
   "mimetype": "text/x-python",
   "name": "python",
   "nbconvert_exporter": "python",
   "pygments_lexer": "ipython3",
   "version": "3.8.5"
  }
 },
 "nbformat": 4,
 "nbformat_minor": 4
}